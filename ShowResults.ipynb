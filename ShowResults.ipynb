{
 "nbformat": 4,
 "nbformat_minor": 2,
 "metadata": {
  "language_info": {
   "name": "python",
   "codemirror_mode": {
    "name": "ipython",
    "version": 2
   },
   "version": "3.6.8-final"
  },
  "orig_nbformat": 2,
  "file_extension": ".py",
  "mimetype": "text/x-python",
  "name": "python",
  "npconvert_exporter": "python",
  "pygments_lexer": "ipython2",
  "version": 2,
  "kernelspec": {
   "name": "python36864bitvenvvenvb39ffcdcd65e461a93b96d90c1bdefd2",
   "display_name": "Python 3.6.8 64-bit ('venv': venv)"
  }
 },
 "cells": [
  {
   "cell_type": "code",
   "execution_count": 5,
   "metadata": {},
   "outputs": [
    {
     "data": {
      "text/html": "<div>\n<style scoped>\n    .dataframe tbody tr th:only-of-type {\n        vertical-align: middle;\n    }\n\n    .dataframe tbody tr th {\n        vertical-align: top;\n    }\n\n    .dataframe thead th {\n        text-align: right;\n    }\n</style>\n<table border=\"1\" class=\"dataframe\">\n  <thead>\n    <tr style=\"text-align: right;\">\n      <th></th>\n      <th>count</th>\n      <th>files</th>\n      <th>sentences</th>\n    </tr>\n    <tr>\n      <th>word</th>\n      <th></th>\n      <th></th>\n      <th></th>\n    </tr>\n  </thead>\n  <tbody>\n    <tr>\n      <th>not</th>\n      <td>87</td>\n      <td>doc1 doc2 doc3 doc4 doc6</td>\n      <td>It's humbling, but in my heart I know you didn...</td>\n    </tr>\n    <tr>\n      <th>enough</th>\n      <td>29</td>\n      <td>doc1 doc2 doc3 doc4 doc5 doc6</td>\n      <td>But I've been there long enough to know that t...</td>\n    </tr>\n    <tr>\n      <th>many</th>\n      <td>33</td>\n      <td>doc1 doc2 doc3 doc4 doc5 doc6</td>\n      <td>All of us know what those challenges are today...</td>\n    </tr>\n    <tr>\n      <th>also</th>\n      <td>34</td>\n      <td>doc1 doc2 doc3 doc4 doc5 doc6</td>\n      <td>But let us also understand that ultimate victo...</td>\n    </tr>\n    <tr>\n      <th>American</th>\n      <td>48</td>\n      <td>doc1 doc2 doc3 doc4 doc5 doc6</td>\n      <td>It was here, in Springfield, where North, Sout...</td>\n    </tr>\n    <tr>\n      <th>right</th>\n      <td>20</td>\n      <td>doc1 doc2 doc3 doc4 doc5 doc6</td>\n      <td>Let's be the generation that says right here, ...</td>\n    </tr>\n    <tr>\n      <th>great</th>\n      <td>20</td>\n      <td>doc1 doc2 doc3 doc4</td>\n      <td>As most of you know, I am not a native of this...</td>\n    </tr>\n    <tr>\n      <th>hard</th>\n      <td>16</td>\n      <td>doc1 doc2 doc4 doc5 doc6</td>\n      <td>All of us know what those challenges are today...</td>\n    </tr>\n    <tr>\n      <th>new</th>\n      <td>32</td>\n      <td>doc1 doc2 doc3 doc4 doc5</td>\n      <td>Each and every time, a new generation has rise...</td>\n    </tr>\n    <tr>\n      <th>never</th>\n      <td>14</td>\n      <td>doc1 doc2 doc3 doc4 doc5 doc6</td>\n      <td>It was here we learned to disagree without bei...</td>\n    </tr>\n    <tr>\n      <th>better</th>\n      <td>20</td>\n      <td>doc1 doc2 doc3 doc4 doc5 doc6</td>\n      <td>And I accepted the job, sight unseen, motivate...</td>\n    </tr>\n    <tr>\n      <th>long</th>\n      <td>18</td>\n      <td>doc1 doc2 doc3 doc4 doc5</td>\n      <td>In the face of a politics that's shut you out,...</td>\n    </tr>\n    <tr>\n      <th>together</th>\n      <td>23</td>\n      <td>doc1 doc2 doc3 doc4 doc5 doc6</td>\n      <td>It was here, in Springfield, where North, Sout...</td>\n    </tr>\n    <tr>\n      <th>last</th>\n      <td>20</td>\n      <td>doc1 doc2 doc3 doc4 doc5 doc6</td>\n      <td>For the last six years we've been told that ou...</td>\n    </tr>\n    <tr>\n      <th>possible</th>\n      <td>11</td>\n      <td>doc1 doc3 doc4 doc5 doc6</td>\n      <td>In the face of a politics that's shut you out,...</td>\n    </tr>\n    <tr>\n      <th>even</th>\n      <td>20</td>\n      <td>doc1 doc2 doc3 doc4 doc5 doc6</td>\n      <td>As Lincoln organized the forces arrayed agains...</td>\n    </tr>\n    <tr>\n      <th>So</th>\n      <td>10</td>\n      <td>doc1 doc2 doc3 doc4 doc5</td>\n      <td>So let us begin.\\n\\nSo let me spell out exactl...</td>\n    </tr>\n    <tr>\n      <th>simply</th>\n      <td>8</td>\n      <td>doc1 doc5 doc6</td>\n      <td>I saw that the problems people faced weren't s...</td>\n    </tr>\n    <tr>\n      <th>political</th>\n      <td>15</td>\n      <td>doc1 doc2 doc4 doc5</td>\n      <td>What's stopped us is the failure of leadership...</td>\n    </tr>\n    <tr>\n      <th>serious</th>\n      <td>8</td>\n      <td>doc2 doc5 doc6</td>\n      <td>The times are too serious, the stakes are too ...</td>\n    </tr>\n  </tbody>\n</table>\n</div>",
      "text/plain": "           count                           files  \\\nword                                               \nnot           87       doc1 doc2 doc3 doc4 doc6    \nenough        29  doc1 doc2 doc3 doc4 doc5 doc6    \nmany          33  doc1 doc2 doc3 doc4 doc5 doc6    \nalso          34  doc1 doc2 doc3 doc4 doc5 doc6    \nAmerican      48  doc1 doc2 doc3 doc4 doc5 doc6    \nright         20  doc1 doc2 doc3 doc4 doc5 doc6    \ngreat         20            doc1 doc2 doc3 doc4    \nhard          16       doc1 doc2 doc4 doc5 doc6    \nnew           32       doc1 doc2 doc3 doc4 doc5    \nnever         14  doc1 doc2 doc3 doc4 doc5 doc6    \nbetter        20  doc1 doc2 doc3 doc4 doc5 doc6    \nlong          18       doc1 doc2 doc3 doc4 doc5    \ntogether      23  doc1 doc2 doc3 doc4 doc5 doc6    \nlast          20  doc1 doc2 doc3 doc4 doc5 doc6    \npossible      11       doc1 doc3 doc4 doc5 doc6    \neven          20  doc1 doc2 doc3 doc4 doc5 doc6    \nSo            10       doc1 doc2 doc3 doc4 doc5    \nsimply         8                 doc1 doc5 doc6    \npolitical     15            doc1 doc2 doc4 doc5    \nserious        8                 doc2 doc5 doc6    \n\n                                                   sentences  \nword                                                          \nnot        It's humbling, but in my heart I know you didn...  \nenough     But I've been there long enough to know that t...  \nmany       All of us know what those challenges are today...  \nalso       But let us also understand that ultimate victo...  \nAmerican   It was here, in Springfield, where North, Sout...  \nright      Let's be the generation that says right here, ...  \ngreat      As most of you know, I am not a native of this...  \nhard       All of us know what those challenges are today...  \nnew        Each and every time, a new generation has rise...  \nnever      It was here we learned to disagree without bei...  \nbetter     And I accepted the job, sight unseen, motivate...  \nlong       In the face of a politics that's shut you out,...  \ntogether   It was here, in Springfield, where North, Sout...  \nlast       For the last six years we've been told that ou...  \npossible   In the face of a politics that's shut you out,...  \neven       As Lincoln organized the forces arrayed agains...  \nSo         So let us begin.\\n\\nSo let me spell out exactl...  \nsimply     I saw that the problems people faced weren't s...  \npolitical  What's stopped us is the failure of leadership...  \nserious    The times are too serious, the stakes are too ...  "
     },
     "metadata": {},
     "output_type": "display_data"
    }
   ],
   "source": [
    "import pandas\n",
    "from IPython.display import display, HTML\n",
    "from modules import utilities\n",
    "\n",
    "final_report = pandas.read_csv(utilities.FINAL_REPORT, index_col = 'word').head(20)\n",
    "display(final_report)"
   ]
  },
  {
   "cell_type": "code",
   "execution_count": null,
   "metadata": {},
   "outputs": [],
   "source": []
  }
 ]
}