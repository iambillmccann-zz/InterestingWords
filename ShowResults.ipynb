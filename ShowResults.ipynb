{
 "nbformat": 4,
 "nbformat_minor": 2,
 "metadata": {
  "language_info": {
   "name": "python",
   "codemirror_mode": {
    "name": "ipython",
    "version": 2
   },
   "version": "3.6.8-final"
  },
  "orig_nbformat": 2,
  "file_extension": ".py",
  "mimetype": "text/x-python",
  "name": "python",
  "npconvert_exporter": "python",
  "pygments_lexer": "ipython2",
  "version": 2,
  "kernelspec": {
   "name": "python36864bitvenvvenvb39ffcdcd65e461a93b96d90c1bdefd2",
   "display_name": "Python 3.6.8 64-bit ('venv': venv)"
  }
 },
 "cells": [
  {
   "cell_type": "code",
   "execution_count": 1,
   "metadata": {},
   "outputs": [
    {
     "data": {
      "text/html": "<div>\n<style scoped>\n    .dataframe tbody tr th:only-of-type {\n        vertical-align: middle;\n    }\n\n    .dataframe tbody tr th {\n        vertical-align: top;\n    }\n\n    .dataframe thead th {\n        text-align: right;\n    }\n</style>\n<table border=\"1\" class=\"dataframe\">\n  <thead>\n    <tr style=\"text-align: right;\">\n      <th></th>\n      <th>word</th>\n      <th>count</th>\n    </tr>\n  </thead>\n  <tbody>\n    <tr>\n      <th>0</th>\n      <td>not</td>\n      <td>70</td>\n    </tr>\n    <tr>\n      <th>1</th>\n      <td>enough</td>\n      <td>19</td>\n    </tr>\n    <tr>\n      <th>2</th>\n      <td>many</td>\n      <td>16</td>\n    </tr>\n    <tr>\n      <th>3</th>\n      <td>also</td>\n      <td>16</td>\n    </tr>\n    <tr>\n      <th>4</th>\n      <td>American</td>\n      <td>15</td>\n    </tr>\n  </tbody>\n</table>\n</div>",
      "text/plain": "       word  count\n0       not     70\n1    enough     19\n2      many     16\n3      also     16\n4  American     15"
     },
     "execution_count": 1,
     "metadata": {},
     "output_type": "execute_result"
    }
   ],
   "source": [
    "import pandas\n",
    "from modules import utilities\n",
    "\n",
    "interesting_words = pandas.read_csv(utilities.interesting_words())\n",
    "interesting_words.head(5)"
   ]
  },
  {
   "cell_type": "code",
   "execution_count": null,
   "metadata": {},
   "outputs": [],
   "source": []
  }
 ]
}